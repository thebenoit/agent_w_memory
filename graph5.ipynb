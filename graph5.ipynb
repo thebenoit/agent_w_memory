{
 "cells": [
  {
   "cell_type": "code",
   "execution_count": 53,
   "metadata": {},
   "outputs": [],
   "source": [
    "from langgraph.graph import StateGraph, START, END\n",
    "import random\n",
    "from typing import TypedDict, List"
   ]
  },
  {
   "cell_type": "code",
   "execution_count": 54,
   "metadata": {},
   "outputs": [],
   "source": [
    "class AgentState(TypedDict):\n",
    "    name: str\n",
    "    thinkingNumber: int\n",
    "    hint: str\n",
    "    guess: int\n",
    "    guesses: List[int]\n",
    "    attempts: int\n",
    "    lower_bound: int\n",
    "    upper_bound: int\n",
    "      "
   ]
  },
  {
   "cell_type": "code",
   "execution_count": 55,
   "metadata": {},
   "outputs": [],
   "source": [
    "def setup_node(state:AgentState) -> AgentState:\n",
    "    \"\"\"setup the thinking number between lower and upper bound\"\"\"\n",
    "    state[\"thinkingNumber\"] = random.randint(state[\"lower_bound\"],state[\"upper_bound\"])\n",
    "    \n",
    "    print(f\"Welcome {state['name']} I am thinking of a number between {state['lower_bound']} and {state['upper_bound']}\")\n",
    "    \n",
    "    return state\n",
    "\n",
    "def guesses_node(state:AgentState) -> AgentState:\n",
    "    \"\"\"Generate a random guess between bounds\"\"\"\n",
    "    state[\"guess\"] = random.randint(state[\"lower_bound\"],state[\"upper_bound\"])\n",
    "    state[\"guesses\"].append(state[\"guess\"])\n",
    "    state[\"attempts\"] += 1\n",
    "    \n",
    "    return state\n",
    "\n",
    "def should_continue(state:AgentState) -> AgentState:\n",
    "    \"\"\"Function to decide what to do next\"\"\"\n",
    "    if state[\"attempts\"] < 7 and state[\"thinkingNumber\"] != state[\"guess\"]:\n",
    "        print(\"entering loop: \", state[\"attempts\"])\n",
    "        return \"loop\" ## Continue looping\n",
    "    \n",
    "    elif state[\"attempts\"] == 7:\n",
    "        print(\"GAME OVER: You have reached the maximum number of attempts\")\n",
    "        return \"exit\"\n",
    "    \n",
    "    elif state[\"thinkingNumber\"] == state[\"guess\"]:\n",
    "        return \"exit\"\n",
    "    \n",
    "    else:\n",
    "        return \"exit\" # Exit the loop\n",
    "    \n",
    "def hint_node(state:AgentState) -> AgentState:\n",
    "    \"\"\"Give a hint based on the guesses\"\"\"\n",
    "    if state[\"guess\"] == state[\"thinkingNumber\"]:\n",
    "        state[\"hint\"] = \"You guessed it!\"\n",
    "        \n",
    "        print(f\"Congratulations {state['name']} you guessed the number {state['thinkingNumber']} in {state['attempts']} attempts\")\n",
    "    elif state[\"guess\"] < state[\"thinkingNumber\"]:\n",
    "        state[\"hint\"] = \"Too low!\"\n",
    "        print(f\"The number is higher than {state['guess']}\")\n",
    "    else:\n",
    "        state[\"hint\"] = \"Too high!\"\n",
    "        print(f\"The number is lower than {state['guess']}\")\n",
    "    return state\n",
    "\n",
    "    \n",
    "    \n"
   ]
  },
  {
   "cell_type": "code",
   "execution_count": 56,
   "metadata": {},
   "outputs": [],
   "source": [
    "graph = StateGraph(AgentState)\n",
    "\n",
    "graph.add_node(\"setup\",setup_node)\n",
    "graph.add_node(\"the_guess\",guesses_node)\n",
    "graph.add_node(\"the_hint\",hint_node)\n",
    "graph.add_edge(\"setup\",\"the_guess\")\n",
    "graph.add_edge(\"the_guess\",\"the_hint\")\n",
    "\n",
    "graph.add_conditional_edges(\n",
    "    \"the_hint\", # Source node\n",
    "    should_continue, # Routing function\n",
    "    {\n",
    "        \"loop\": \"the_guess\", # Self-loop back to same node\n",
    "        \"exit\": END # End the graph\n",
    "    }\n",
    ")\n",
    "\n",
    "graph.set_entry_point(\"setup\")\n",
    "\n",
    "app = graph.compile()"
   ]
  },
  {
   "cell_type": "code",
   "execution_count": 57,
   "metadata": {},
   "outputs": [
    {
     "data": {
      "image/png": "[encoded data removed]",
      "text/plain": [
       "<IPython.core.display.Image object>"
      ]
     },
     "metadata": {},
     "output_type": "display_data"
    }
   ],
   "source": [
    "from IPython.display import Image, display\n",
    "display(Image(app.get_graph().draw_mermaid_png()))"
   ]
  },
  {
   "cell_type": "code",
   "execution_count": 58,
   "metadata": {},
   "outputs": [
    {
     "name": "stdout",
     "output_type": "stream",
     "text": [
      "Welcome Student I am thinking of a number between 1 and 20\n",
      "The number is lower than 16\n",
      "entering loop:  1\n",
      "The number is higher than 2\n",
      "entering loop:  2\n",
      "The number is higher than 5\n",
      "entering loop:  3\n",
      "The number is lower than 11\n",
      "entering loop:  4\n",
      "Congratulations Student you guessed the number 7 in 5 attempts\n"
     ]
    }
   ],
   "source": [
    "result = app.invoke({\"name\": \"Student\", \"guesses\": [], \"attempts\": 0, \"lower_bound\": 1, \"upper_bound\": 20})"
   ]
  }
 ],
 "metadata": {
  "kernelspec": {
   "display_name": "aienv",
   "language": "python",
   "name": "python3"
  },
  "language_info": {
   "codemirror_mode": {
    "name": "ipython",
    "version": 3
   },
   "file_extension": ".py",
   "mimetype": "text/x-python",
   "name": "python",
   "nbconvert_exporter": "python",
   "pygments_lexer": "ipython3",
   "version": "3.12.2"
  }
 },
 "nbformat": 4,
 "nbformat_minor": 2
}
